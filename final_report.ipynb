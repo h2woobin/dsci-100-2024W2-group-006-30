{
 "cells": [
  {
   "cell_type": "code",
   "execution_count": null,
   "id": "9407d17a-5d6a-4322-8372-890c55fcfa19",
   "metadata": {},
   "outputs": [],
   "source": []
  }
 ],
 "metadata": {
  "kernelspec": {
   "display_name": "R",
   "language": "R",
   "name": "ir"
  },
  "language_info": {
   "codemirror_mode": "r",
   "file_extension": ".r",
   "mimetype": "text/x-r-source",
   "name": "R",
   "pygments_lexer": "r",
   "version": "4.3.3"
  }
 },
 "nbformat": 4,
 "nbformat_minor": 5
}
