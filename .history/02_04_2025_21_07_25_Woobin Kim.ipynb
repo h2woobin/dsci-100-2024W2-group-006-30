{
 "cells": [
  {
   "cell_type": "code",
   "execution_count": null,
   "id": "304d2aaa-c1da-4d26-9fe0-36dff7a5696d",
   "metadata": {},
   "outputs": [],
   "source": [
    "library(tidyverse)\n",
    "install.packages(\"lubridate\")  \n",
    "library(lubridate)\n",
    "library(dplyr)\n",
    "library(readr)\n",
    "library(ggplot2)\n",
    "\n",
    "players <- read_csv(\"/home/jovyan/work/dsci-100-student/project/players.csv\")\n",
    "sessions <- read_csv(\"/home/jovyan/work/dsci-100-student/project/sessions.csv\")\n",
    "\n",
    "merged_data <- left_join(players,sessions, by = \"hashedEmail\")\n",
    "\n",
    "merged_data <- merged_data|>\n",
    "    select(-hashedEmail,-original_start_time,-original_end_time)\n",
    "    merged_data$Age[is.na(merged_data$Age)] <- mean(merged_data$Age, na.rm = TRUE)\n",
    "\n",
    "merged_data\n"
   ]
  },
  {
   "cell_type": "markdown",
   "id": "438f056b-1649-4b8e-b9d4-6e4e21bf6343",
   "metadata": {},
   "source": [
    "To get a large amount of data, total sessions, total play time, and average session duration are key indicators.  \n",
    "Let’s call these **engagement level metrics**.\n",
    "\n",
    "1. Relation between \"age\" and engagement level metrics  \n",
    "    > Do older players spend more time per session? (age vs average session duration)\n",
    "\n",
    "2. Relation between \"experience\" and engagement level metrics  \n",
    "    > Do players with more experience tend to play more? (experience vs Avergae Played Hours)\n",
    "\n",
    "3. Relation between \"gender\" and engagement level metrics  \n",
    "    > Which gender has more sessions? (gender vs total sessions)\n",
    "\n",
    "4. Relation between \"subscription\" and engagement level metrics  \n",
    "    > Do subscribers tend to play more than non-subscribers? (subscribe vs total play time)\n"
   ]
  },
  {
   "cell_type": "markdown",
   "id": "9b2d9247-6f90-40c4-a202-6f2bb1b446bf",
   "metadata": {},
   "source": [
    "**1. Do older players spend more time per session? (age vs average session duration)**"
   ]
  },
  {
   "cell_type": "code",
   "execution_count": null,
   "id": "f9b82336-44ae-4b63-8371-1f40e607c8f2",
   "metadata": {},
   "outputs": [],
   "source": [
    "merged_data <- merged_data|>\n",
    "    mutate(\n",
    "        start_time = as.POSIXct(start_time, format = \"%m/%d/%Y %H:%M\"),\n",
    "        end_time = as.POSIXct(end_time, format = \"%m/%d/%Y %H:%M\"),\n",
    "        session_duration = as.numeric(difftime(end_time, start_time, units = \"mins\"))\n",
    "    )\n",
    "\n",
    "# Outliers were detected.(start_time,end time)\n",
    "# Checking sum of all session time and duplicated session time are same.\n",
    "name_order <- merged_data |>\n",
    "  count(name, sort = TRUE) |>\n",
    "  pull(name)\n",
    "\n",
    "merged_data$name <- factor(merged_data$name, levels = name_order)\n",
    "\n",
    "merged_data <- merged_data |>\n",
    "  arrange(name,start_time)\n",
    "\n",
    "# merged_data <- merged_data |>\n",
    "#     filter(name == \"Morgan\") |>\n",
    "#     arrange(start_time)\n",
    "# The outliers represented non-overlapping, extremely long sessions and were unlikely to affect the analysis, so we removed them from the dataset.\n",
    "\n",
    "merged_data_clean <- merged_data |>\n",
    "  filter(session_duration <= 1440 ,!is.na(start_time),!is.na(end_time))\n",
    "\n",
    "merged_data_clean\n"
   ]
  },
  {
   "cell_type": "markdown",
   "id": "94b716d8-1c27-4583-acfc-68aacb4d241d",
   "metadata": {},
   "source": [
    "**2. Do players with more experience tend to play more? (experience vs Avergae Played Hours)**"
   ]
  },
  {
   "cell_type": "code",
   "execution_count": null,
   "id": "3bb301f2-2f09-4879-98de-e5654df0dd14",
   "metadata": {},
   "outputs": [],
   "source": [
    "options(repr.plot.width = 8, repr.plot.height = 8) \n",
    "\n",
    "tidy_player_dataset <- players |> \n",
    "    mutate(experience = as_factor(experience), \n",
    "           subscribe = as_factor(subscribe), \n",
    "           gender = as_factor(gender)) |>\n",
    "    mutate(subscribe = fct_recode(subscribe, \"Subscribed\" = \"TRUE\", \"Not Subscribed\" = \"FALSE\"))\n",
    "\n",
    "avg_played_hours <- tidy_player_dataset |>\n",
    "  group_by(experience) |> \n",
    "  summarise(avg_hours = mean(played_hours, na.rm = TRUE))\n",
    "\n",
    "\n",
    "experience_bar <- ggplot(avg_played_hours, aes(x = experience, y = avg_hours, fill = experience)) +\n",
    "  geom_bar(stat = \"identity\") +\n",
    "  labs(title = \"Average Played Hours vs. Experience Level\",\n",
    "       x = \"Experience Level\",\n",
    "       y = \"Average Played Hours(hrs)\") +\n",
    "  theme(text = element_text(size = 15))\n",
    "\n",
    "experience_bar"
   ]
  },
  {
   "cell_type": "markdown",
   "id": "7becd353-3548-44d0-911a-3b855b4ed8e8",
   "metadata": {},
   "source": [
    "Bar Plot: Average Played Hours vs. Experience Level\n",
    "\n",
    "The bar plot shows that \"Regular\" players have the highest average playtime, significantly exceeding all other experience levels. \"Veteran\" players have the lowest average playtime, suggesting that higher experience does not necessarily lead to greater engagement. \"Pro\" and \"Amateur\" players fall in the middle range, while \"Beginner\" players have the lowest playtime overall. This pattern indicates that e \"Regular\" players appear to be the most engaged. Therefore, we should recruit \"Regular\" players as they most likely to contribute a large amount of data(greater play time). "
   ]
  },
  {
   "cell_type": "markdown",
   "id": "df6ed83d-8094-44fd-9742-36ab583d38b4",
   "metadata": {},
   "source": [
    "**3. Which gender has more sessions? (gender vs total sessions)**"
   ]
  },
  {
   "cell_type": "code",
   "execution_count": null,
   "id": "81235e87-01ff-4c71-a3b2-a2cba71fb998",
   "metadata": {},
   "outputs": [],
   "source": [
    "gender_sessions <- sessions |>\n",
    "filter(!is.na(gender)) |>\n",
    "select(name, gender, start_time, end_time, session_duration) |>\n",
    "group_by(gender) |>\n",
    "summarize(total_sessions=n()) \n",
    "gender_sessions\n",
    "\n",
    "gender_sessions_plot <- gender_sessions |>\n",
    "ggplot(aes(x=gender, y=total_sessions, fill=gender)) +\n",
    "geom_bar(stat=\"identity\") +\n",
    "labs(title=\"Total Sessions Related to Gender\", x=\"Player's Gender\", y=\"Total Count\") +\n",
    "theme(text = element_text(size=20))\n",
    "gender_sessions_plot"
   ]
  },
  {
   "cell_type": "markdown",
   "id": "71717661-f593-4689-9b30-b25c5d789e24",
   "metadata": {},
   "source": [
    "1. Filter out rows with missing gender(NA) from gender column using `filter` function.\n",
    "2. Select five column names (name, gender, start_time, end_time, session_duration) from data using `select` function.\n",
    "3. Group the data by gender using `group_by` function.\n",
    "4. Calculate total number of rows in sessions data for each gender using `summarize` function, then make a new name: total_sessions.\n",
    "5. Print out gender_sessions.\n",
    "6. Create a plot for relationship between gender and total sessions using gender_sessions data.\n",
    "7. Using x = gender, y = total_sessions and fill gender to create a bar chart and create a title and each name of xlab and ylab using `labs` to combine it."
   ]
  },
  {
   "cell_type": "markdown",
   "id": "3f879e9e-60f2-4cc2-bdf0-e9363a690890",
   "metadata": {},
   "source": [
    "**4. Do subscribers tend to play more than non-subscribers? (subscribe vs total play time)**"
   ]
  },
  {
   "cell_type": "code",
   "execution_count": null,
   "id": "46093ba6-96b0-48d4-949e-f2812ba60512",
   "metadata": {},
   "outputs": [],
   "source": [
    "# Compute average played hours by subscription status\n",
    "avg_played_hours_sub <- tidy_player_dataset |>\n",
    "  group_by(subscribe) |>\n",
    "  summarise(avg_hours = mean(played_hours, na.rm = TRUE)) \n",
    "\n",
    "# Create the bar plot\n",
    "sub_bar <- ggplot(avg_played_hours_sub, aes(x = subscribe, y = avg_hours, fill = subscribe)) +\n",
    "  geom_bar(stat = \"identity\") +\n",
    "  labs(title = \"Average Played Hours vs. Subscription Status\",\n",
    "       x = \"Subscription Status\",\n",
    "       y = \"Average Played Hours (hrs)\",\n",
    "       fill = \"Subscription Status\") +\n",
    "  theme(text = element_text(size = 15))\n",
    "sub_bar"
   ]
  },
  {
   "cell_type": "markdown",
   "id": "5b5f9c13-9112-40d7-a945-cb3fe73d9a74",
   "metadata": {},
   "source": [
    "Bar Plot: Average Played Hours vs. Subscription Status\n",
    "\n",
    "The comparison between subscribed and non-subscribed players demonstrates a clear and significant difference in playtime. Subscribed players spend singnificantly more time playing than non-subscribers, suggesting that subsc"
   ]
  }
 ],
 "metadata": {
  "kernelspec": {
   "display_name": "R",
   "language": "R",
   "name": "ir"
  },
  "language_info": {
   "codemirror_mode": "r",
   "file_extension": ".r",
   "mimetype": "text/x-r-source",
   "name": "R",
   "pygments_lexer": "r",
   "version": "4.3.3"
  }
 },
 "nbformat": 4,
 "nbformat_minor": 5
}
