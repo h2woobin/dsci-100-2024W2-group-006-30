{
 "cells": [
  {
   "cell_type": "code",
   "execution_count": null,
   "id": "5edadd2c",
   "metadata": {},
   "outputs": [],
   "source": [
    "library(tidyverse)\n",
    "install.packages(\"lubridate\")  \n",
    "library(lubridate)\n",
    "library(dplyr)\n",
    "library(readr)\n",
    "library(ggplot2)\n",
    "\n",
    "players <- read_csv(\"https://raw.githubusercontent.com/Elvis614412/Dsci-100-group-project/refs/heads/main/players.csv\")\n",
    "sessions <- read_csv(\"https://raw.githubusercontent.com/Elvis614412/Dsci-100-group-project/refs/heads/main/sessions.csv\")\n",
    "\n",
    "merged_data <- left_join(players,sessions, by = \"hashedEmail\")\n",
    "\n",
    "merged_data <- merged_data|>\n",
    "    select(-hashedEmail,-original_start_time,-original_end_time)\n",
    "    merged_data$Age[is.na(merged_data$Age)] <- mean(merged_data$Age, na.rm = TRUE)\n",
    "\n",
    "merged_data\n"
   ]
  },
  {
   "cell_type": "markdown",
   "id": "612cf429",
   "metadata": {},
   "source": [
    "**3. Which gender has more sessions? (gender vs total sessions)**"
   ]
  },
  {
   "cell_type": "code",
   "execution_count": null,
   "id": "3665d1da",
   "metadata": {},
   "outputs": [],
   "source": [
    "gender_sessions <- merged_data |>\n",
    "filter(!is.na(gender)) |>\n",
    "select(name, gender, start_time, end_time) |>\n",
    "group_by(gender) |>\n",
    "summarize(total_sessions=n()) \n",
    "gender_sessions\n",
    "\n",
    "options(repr.plot.width = 15, repr.plot.height = 8)\n",
    "gender_sessions_plot <- gender_sessions |>\n",
    "ggplot(aes(x=gender, y=total_sessions, fill=gender)) +\n",
    "geom_bar(stat=\"identity\") +\n",
    "labs(title=\"Total Sessions Related to Gender\", x=\"Player's Gender\", y=\"Total Count\") +\n",
    "theme(text = element_text(size=20))\n",
    "gender_sessions_plot"
   ]
  },
  {
   "cell_type": "markdown",
   "id": "644e5acf",
   "metadata": {},
   "source": [
    "**Steps**\n",
    "1. Filter out rows with missing gender(NA) from gender column using `filter` function.\n",
    "2. Select five column names (name, gender, start_time, end_time, session_duration) from data using `select` function.\n",
    "3. Group the data by gender using `group_by` function.\n",
    "4. Calculate total number of rows in sessions data for each gender using `summarize` function, then make a new name: total_sessions.\n",
    "5. Print out gender_sessions.\n",
    "6. Create a plot for relationship between gender and total sessions using gender_sessions data.\n",
    "7. Using x = gender, y = total_sessions and fill gender to create a bar chart and create a title and each name of xlab and ylab using `labs` to combine it."
   ]
  },
  {
   "cell_type": "markdown",
   "id": "a841ec41-3b0c-4160-9404-74ce30ba4c80",
   "metadata": {},
   "source": [
    "**Relationship with question2**\n",
    "1. What I do is to research how a player's gender contributed to the large amount of data for the game. Then, I used different functions to create a final plot that can illustrate which gender contributed most, least and middle.\n",
    "2. Firstly, I used a `filter` function and an argument !is.na to extract the gender's column rows in the merged data frame and find the values which are not NA.\n",
    "3. In addition, using the `select` function to choose which columns I can use in this research, I choose name, gender, start time and end time columns to solve this research. Name and gender columns can help us know each player's names and which gender are they. Also, start time and end time columns can help us know how long they spent on game.\n",
    "4. Thirdly, using `group_by` and `summarize` functions to split the gender column to each column and make a column name total_sessions and calculate each column to find values.\n",
    "5. Last but not least, using the `ggplot` function to create a bar chart and find the total distribution for each genders.\n",
    "6. Finally, the bar shows the most, least and middle contributed for each genders. *Male* gender contributed most for this game which is in the upper 1000. *Other* gender contributed least for this game which is almost 0. Besides, second place is *Female*, third place is *Non-binary*, fourth place is *Prefer not to say*, fifth place is *Agender* and sixth place is *Two-Spirited*.\n",
    "7. OVerall, I described the number of players related to gender and contribution from players for the game, so the most distributed is *Male* players and the least distributed is *Other* players."
   ]
  },
  {
   "cell_type": "code",
   "execution_count": null,
   "id": "f00d90e4-29db-4358-b564-3c40abd05d99",
   "metadata": {},
   "outputs": [],
   "source": []
  },
  {
   "cell_type": "code",
   "execution_count": null,
   "id": "40d22769-7f7c-4bc1-b19b-270361410905",
   "metadata": {},
   "outputs": [],
   "source": []
  }
 ],
 "metadata": {
  "kernelspec": {
   "display_name": "R",
   "language": "R",
   "name": "ir"
  },
  "language_info": {
   "codemirror_mode": "r",
   "file_extension": ".r",
   "mimetype": "text/x-r-source",
   "name": "R",
   "pygments_lexer": "r",
   "version": "4.3.3"
  }
 },
 "nbformat": 4,
 "nbformat_minor": 5
}
