{
 "cells": [
  {
   "cell_type": "markdown",
   "id": "6a4d963a-f1d5-4fc3-b62c-831df8f51e65",
   "metadata": {},
   "source": [
    "**Introduction:**\n",
    "- provide some relevant background information on the topic so that someone unfamiliar with it will be prepared to understand the rest of your report\n",
    "- clearly state the question you tried to answer with your project\n",
    "- identify and fully describe the dataset that was used to answer the question"
   ]
  },
  {
   "cell_type": "markdown",
   "id": "d74544f2-51ac-4a8a-8fb9-5555a15b7b9c",
   "metadata": {},
   "source": []
  },
  {
   "cell_type": "markdown",
   "id": "614487db-7dc9-4b4b-9f48-8ad0397ff24e",
   "metadata": {},
   "source": [
    "**Methods & Results:**\n",
    "- describe the methods you used to perform your analysis from beginning to end that narrates the analysis code.\n",
    "- your report should include code which:\n",
    "- loads data \n",
    "- wrangles and cleans the data to the format necessary for the planned analysis\n",
    "- performs a summary of the data set that is relevant for exploratory data analysis related to the planned analysis \n",
    "- creates a visualization of the dataset that is relevant for exploratory data analysis related to the planned analysis\n",
    "- performs the data analysis\n",
    "creates a visualization of the analysis \n",
    "note: all figures should have a figure number and a legend"
   ]
  },
  {
   "cell_type": "code",
   "execution_count": null,
   "id": "061342be-df25-4195-862c-9c708e437cd4",
   "metadata": {},
   "outputs": [],
   "source": []
  }
 ],
 "metadata": {
  "kernelspec": {
   "display_name": "R",
   "language": "R",
   "name": "ir"
  },
  "language_info": {
   "codemirror_mode": "r",
   "file_extension": ".r",
   "mimetype": "text/x-r-source",
   "name": "R",
   "pygments_lexer": "r",
   "version": "4.3.3"
  }
 },
 "nbformat": 4,
 "nbformat_minor": 5
}
