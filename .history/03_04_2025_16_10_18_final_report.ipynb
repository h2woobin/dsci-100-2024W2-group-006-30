{
 "cells": [
  {
   "cell_type": "code",
   "execution_count": null,
   "id": "238f632f-6f57-4ceb-b23f-e64ddcdd474e",
   "metadata": {},
   "outputs": [],
   "source": [
    "library(tidyverse)\n",
    "install.packages(\"lubridate\")  \n",
    "library(lubridate)\n",
    "library(dplyr)\n",
    "library(readr)\n",
    "library(ggplot2)"
   ]
  },
  {
   "cell_type": "markdown",
   "id": "6a4d963a-f1d5-4fc3-b62c-831df8f51e65",
   "metadata": {},
   "source": [
    "**Introduction:**\n",
    "- provide some relevant background information on the topic so that someone unfamiliar with it will be prepared to understand the rest of your report\n",
    "- clearly state the question you tried to answer with your project\n",
    "- identify and fully describe the dataset that was used to answer the question"
   ]
  },
  {
   "cell_type": "markdown",
   "id": "d74544f2-51ac-4a8a-8fb9-5555a15b7b9c",
   "metadata": {},
   "source": []
  },
  {
   "cell_type": "markdown",
   "id": "614487db-7dc9-4b4b-9f48-8ad0397ff24e",
   "metadata": {},
   "source": [
    "## **Methods & Results:**\n",
    "- describe the methods you used to perform your analysis from beginning to end that narrates the analysis code.\n",
    "- your report should include code which:\n",
    "- loads data \n",
    "- wrangles and cleans the data to the format necessary for the planned analysis\n",
    "- performs a summary of the data set that is relevant for exploratory data analysis related to the planned analysis \n",
    "- creates a visualization of the dataset that is relevant for exploratory data analysis related to the planned analysis\n",
    "- performs the data analysis\n",
    "- creates a visualization of the analysis \n",
    "- note: all figures should have a figure number and a legend"
   ]
  },
  {
   "cell_type": "markdown",
   "id": "f3c19d51-98e0-4f85-aeaf-85b1503dc55f",
   "metadata": {},
   "source": [
    "### **Load Data** "
   ]
  },
  {
   "cell_type": "code",
   "execution_count": null,
   "id": "5d6dc29f-c5db-40fa-a2e9-8db1876f4634",
   "metadata": {},
   "outputs": [],
   "source": [
    "players <- read_csv(\"https://raw.githubusercontent.com/Elvis614412/Dsci-100-group-project/refs/heads/main/players.csv\")\n",
    "sessions <- read_csv(\"https://raw.githubusercontent.com/Elvis614412/Dsci-100-group-project/refs/heads/main/sessions.csv\")\n",
    "\n",
    "merged_data <- left_join(players,sessions, by = \"hashedEmail\")\n",
    "\n",
    "merged_data <- merged_data|>\n",
    "    select(-hashedEmail,-original_start_time,-original_end_time)\n",
    "    merged_data$Age[is.na(merged_data$Age)] <- mean(merged_data$Age, na.rm = TRUE)\n",
    "\n",
    "head(merged_data, 5)"
   ]
  },
  {
   "cell_type": "markdown",
   "id": "55b89056-95b0-4c81-81eb-1a7902f8168a",
   "metadata": {},
   "source": [
    "### **Summary & Visualization of Dataset for Q1**"
   ]
  },
  {
   "cell_type": "code",
   "execution_count": null,
   "id": "44541584-d486-4236-8db7-85a7f8df2297",
   "metadata": {},
   "outputs": [],
   "source": []
  },
  {
   "cell_type": "markdown",
   "id": "22cda0b9-042f-4912-8a31-3defaef70757",
   "metadata": {},
   "source": [
    "### **Summary & Visualization of Dataset for Q2**"
   ]
  },
  {
   "cell_type": "code",
   "execution_count": null,
   "id": "0e309682-d632-4b3c-b6fd-c1216462b0b9",
   "metadata": {},
   "outputs": [],
   "source": [
    "\n",
    "tidy_player_dataset <- players |> \n",
    "    mutate(experience = as_factor(experience), \n",
    "           subscribe = as_factor(subscribe), \n",
    "           gender = as_factor(gender)) |>\n",
    "    mutate(subscribe = fct_recode(subscribe, \"Subscribed\" = \"TRUE\", \"Not Subscribed\" = \"FALSE\"))\n",
    "\n",
    "head(tidy_player_dataset, 5)"
   ]
  },
  {
   "cell_type": "markdown",
   "id": "18c74220-8d6d-4f79-9e26-59182d6358bb",
   "metadata": {},
   "source": [
    "### **Summary & Visualization of Dataset for Q3**"
   ]
  },
  {
   "cell_type": "code",
   "execution_count": null,
   "id": "36cbb0b5-cf5d-48f1-a0c9-3a9cf5a05c9f",
   "metadata": {},
   "outputs": [],
   "source": []
  },
  {
   "cell_type": "markdown",
   "id": "a4bc4e2d-4600-4754-85e5-3eec61519333",
   "metadata": {},
   "source": [
    "### **Summary & Visualization of Dataset for Q4**"
   ]
  },
  {
   "cell_type": "markdown",
   "id": "f83243ee-6958-47f1-8c44-c932162d84f1",
   "metadata": {},
   "source": [
    "**Discussion:**\n",
    "- summarize what you found\n",
    "- discuss whether this is what you expected to find?\n",
    "- discuss what impact could such findings have?\n",
    "- discuss what future questions could this lead to?"
   ]
  },
  {
   "cell_type": "code",
   "execution_count": null,
   "id": "5ff621b9-99f0-4e6d-9665-78983a0c396d",
   "metadata": {},
   "outputs": [],
   "source": []
  },
  {
   "cell_type": "markdown",
   "id": "b5f3a605-d219-461f-be9f-f9fa75cdf4ab",
   "metadata": {},
   "source": [
    "**References**\n",
    "You may include references if necessary, as long as they all have a consistent citation style."
   ]
  },
  {
   "cell_type": "code",
   "execution_count": null,
   "id": "b2d50e62-e49c-4163-a86d-708f3b304c18",
   "metadata": {},
   "outputs": [],
   "source": []
  }
 ],
 "metadata": {
  "kernelspec": {
   "display_name": "R",
   "language": "R",
   "name": "ir"
  },
  "language_info": {
   "codemirror_mode": "r",
   "file_extension": ".r",
   "mimetype": "text/x-r-source",
   "name": "R",
   "pygments_lexer": "r",
   "version": "4.3.3"
  }
 },
 "nbformat": 4,
 "nbformat_minor": 5
}
