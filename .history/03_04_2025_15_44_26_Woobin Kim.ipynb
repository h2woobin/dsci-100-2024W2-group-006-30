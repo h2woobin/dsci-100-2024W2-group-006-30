{
 "cells": [
  {
   "cell_type": "code",
   "execution_count": null,
   "id": "304d2aaa-c1da-4d26-9fe0-36dff7a5696d",
   "metadata": {},
   "outputs": [],
   "source": [
    "library(tidyverse)\n",
    "install.packages(\"lubridate\")  \n",
    "library(lubridate)\n",
    "library(dplyr)\n",
    "library(readr)\n",
    "library(ggplot2)\n",
    "\n",
    "players <- read_csv(\"/https://raw.githubusercontent.com/h2woobin/dsci-100-2024W2-group-006-30/refs/heads/main/players.csv\")\n",
    "sessions <- read_csv(\"/home/jovyan/work/dsci-100-student/project/sessions.csv\")\n",
    "\n",
    "merged_data <- left_join(players,sessions, by = \"hashedEmail\")\n",
    "\n",
    "merged_data <- merged_data|>\n",
    "    select(-hashedEmail,-original_start_time,-original_end_time)\n",
    "    merged_data$Age[is.na(merged_data$Age)] <- mean(merged_data$Age, na.rm = TRUE)\n",
    "\n",
    "merged_data\n"
   ]
  },
  {
   "cell_type": "markdown",
   "id": "438f056b-1649-4b8e-b9d4-6e4e21bf6343",
   "metadata": {},
   "source": [
    "To get a large amount of data, total sessions, total play time, and average session duration are key indicators.  \n",
    "Let’s call these **engagement level metrics**.\n",
    "\n",
    "1. Relation between \"age\" and engagement level metrics  \n",
    "    > Do older players spend more time per session? (age vs average session duration)\n",
    "\n",
    "2. Relation between \"experience\" and engagement level metrics  \n",
    "    > Do players with more experience tend to play more? (experience vs Avergae Played Hours)\n",
    "\n",
    "3. Relation between \"gender\" and engagement level metrics  \n",
    "    > Which gender has more sessions? (gender vs total sessions)\n",
    "\n",
    "4. Relation between \"subscription\" and engagement level metrics  \n",
    "    > Do subscribers tend to play more than non-subscribers? (subscribe vs total play time)\n"
   ]
  },
  {
   "cell_type": "markdown",
   "id": "9b2d9247-6f90-40c4-a202-6f2bb1b446bf",
   "metadata": {},
   "source": [
    "**1. Do older players spend more time per session? (age vs average session duration)**"
   ]
  },
  {
   "cell_type": "code",
   "execution_count": null,
   "id": "f9b82336-44ae-4b63-8371-1f40e607c8f2",
   "metadata": {},
   "outputs": [],
   "source": [
    "merged_data <- merged_data|>\n",
    "    mutate(\n",
    "        start_time = as.POSIXct(start_time, format = \"%m/%d/%Y %H:%M\"),\n",
    "        end_time = as.POSIXct(end_time, format = \"%m/%d/%Y %H:%M\"),\n",
    "        session_duration = as.numeric(difftime(end_time, start_time, units = \"mins\"))\n",
    "    )\n",
    "\n",
    "# Outliers were detected.(start_time,end time)\n",
    "# Checking sum of all session time and duplicated session time are same.\n",
    "name_order <- merged_data |>\n",
    "  count(name, sort = TRUE) |>\n",
    "  pull(name)\n",
    "\n",
    "merged_data$name <- factor(merged_data$name, levels = name_order)\n",
    "\n",
    "merged_data <- merged_data |>\n",
    "  arrange(name,start_time)\n",
    "\n",
    "# merged_data <- merged_data |>\n",
    "#     filter(name == \"Morgan\") |>\n",
    "#     arrange(start_time)\n",
    "# The outliers represented non-overlapping, extremely long sessions and were unlikely to affect the analysis, so we removed them from the dataset.\n",
    "\n",
    "merged_data_clean <- merged_data |>\n",
    "  filter(session_duration <= 1440 ,!is.na(start_time),!is.na(end_time))\n",
    "\n",
    "merged_data2 <- merged_data_clean |> \n",
    "    group_by(name,Age,experience,subscribe) |>\n",
    "    summarize(average_playtime = mean(session_duration),.groups = \"drop\")\n",
    "\n",
    "merged_data2 <- merged_data2 |>\n",
    "    select(-name,-experience,-subscribe)\n",
    "\n",
    "merged_data2 <- merged_data2 |>\n",
    "    mutate(\n",
    "        Age = as.integer(Age),\n",
    "        average_playtime = round(average_playtime,2)\n",
    "    ) |>\n",
    "    arrange(Age)\n",
    "\n",
    "average_by_age <- merged_data2|> \n",
    "    group_by(Age) |>\n",
    "    summarize(average_playtime = mean(average_playtime),.groups = \"drop\")\n",
    "\n",
    "average_by_age <- average_by_age |> \n",
    "    mutate(\n",
    "        average_playtime = round(average_playtime)\n",
    "    )\n",
    "\n",
    "average_by_age\n"
   ]
  },
  {
   "cell_type": "code",
   "execution_count": null,
   "id": "df8d87bc-dbe7-4b99-bde1-0d1451c4dfcb",
   "metadata": {},
   "outputs": [],
   "source": [
    "library(ggplot2)\n",
    "\n",
    "age_plot <- average_by_age |>\n",
    "    ggplot(aes(x = factor(Age), y = average_playtime)) +\n",
    "    geom_bar(stat = \"identity\", fill = \"skyblue\") + \n",
    "    labs(\n",
    "        x = \"Age (9 ~ 50)\",\n",
    "        y = \"Average play time (minutes)\",\n",
    "        tittle = \"Relationship Between Age and Average Play Time\"\n",
    "    ) +\n",
    "    theme_minimal() \n",
    "\n",
    "age_plot"
   ]
  },
  {
   "cell_type": "code",
   "execution_count": null,
   "id": "a3b24d20-f701-464b-ba9a-0adfa4d09c1d",
   "metadata": {},
   "outputs": [],
   "source": [
    "merged_data2 <- merged_data2 |>\n",
    "  mutate(age_group = case_when(\n",
    "    Age >= 10 & Age < 20 ~ \"10s\",\n",
    "    Age >= 20 & Age < 30 ~ \"20s\",\n",
    "    Age >= 30 & Age < 40 ~ \"30s\",\n",
    "    Age >= 40 & Age <= 59 ~ \"40s~50s\",\n",
    "    TRUE ~ NA_character_\n",
    "  ))\n",
    "\n",
    "merged_data2\n",
    "\n",
    "grouped_playtime <- merged_data2 |>\n",
    "  filter(!is.na(age_group)) |>\n",
    "  group_by(age_group) |>\n",
    "  summarize(avg_playtime = round(mean(average_playtime), 2))\n"
   ]
  },
  {
   "cell_type": "code",
   "execution_count": null,
   "id": "25a317b9-0a53-4e47-9bfb-b023e7a07750",
   "metadata": {},
   "outputs": [],
   "source": [
    "ggplot(grouped_playtime, aes(x = age_group, y = avg_playtime)) +\n",
    "  geom_bar(stat = \"identity\", fill = \"steelblue\") +\n",
    "  labs(title = \"Average Play Time by Age Gruop \",\n",
    "       x = \"Age Group\",\n",
    "       y = \"Average Play Time (minutes)\") +\n",
    "  theme_minimal()\n"
   ]
  },
  {
   "cell_type": "code",
   "execution_count": null,
   "id": "2029a549-8208-4f6b-b7cf-112aa94b0c89",
   "metadata": {},
   "outputs": [],
   "source": []
  }
 ],
 "metadata": {
  "kernelspec": {
   "display_name": "R",
   "language": "R",
   "name": "ir"
  },
  "language_info": {
   "codemirror_mode": "r",
   "file_extension": ".r",
   "mimetype": "text/x-r-source",
   "name": "R",
   "pygments_lexer": "r",
   "version": "4.3.3"
  }
 },
 "nbformat": 4,
 "nbformat_minor": 5
}
