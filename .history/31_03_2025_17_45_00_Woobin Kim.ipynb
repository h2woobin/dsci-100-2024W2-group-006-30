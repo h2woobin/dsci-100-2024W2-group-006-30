{
 "cells": [
  {
   "cell_type": "code",
   "execution_count": null,
   "id": "304d2aaa-c1da-4d26-9fe0-36dff7a5696d",
   "metadata": {},
   "outputs": [],
   "source": [
    "library(tidyverse)\n",
    "players <- read_csv(\"/home/jovyan/work/dsci-100-student/project/players.csv\")\n",
    "sessions <- read_csv(\"/home/jovyan/work/dsci-100-student/project/sessions.csv\")\n",
    "\n",
    "merged_data <- left_join(players,sessions, by = \"hashedEmail\")\n",
    "\n",
    "merged_data <- merged_data|>\n",
    "    select(-hashedEmail,-original_start_time,-original_end_time)\n",
    "    merged_data$Age[is.na(merged_data$Age)] <- mean(merged_data$Age, na.rm = TRUE)\n",
    "\n",
    "merged_data\n"
   ]
  },
  {
   "cell_type": "markdown",
   "id": "438f056b-1649-4b8e-b9d4-6e4e21bf6343",
   "metadata": {},
   "source": [
    "To get a large amount of data, total sessions, total play time, and average session duration are key indicators.  \n",
    "Let’s call these **engagement level metrics**.\n",
    "\n",
    "1. Relation between \"age\" and engagement level metrics  \n",
    "    > Do older players spend more time per session? (age vs average session duration)\n",
    "\n",
    "2. Relation between \"experience\" and engagement level metrics  \n",
    "    > Do players with more experience tend to play more? (experience vs total sessions)\n",
    "\n",
    "3. Relation between \"gender\" and engagement level metrics  \n",
    "    > Which gender has more sessions? (gender vs total sessions)\n",
    "\n",
    "4. Relation between \"subscription\" and engagement level metrics  \n",
    "    > Do subscribers tend to play more than non-subscribers? (subscribe vs total play time)\n"
   ]
  },
  {
   "cell_type": "markdown",
   "id": "9b2d9247-6f90-40c4-a202-6f2bb1b446bf",
   "metadata": {},
   "source": [
    "**1. Do older players spend more time per session? (age vs average session duration)**"
   ]
  },
  {
   "cell_type": "code",
   "execution_count": null,
   "id": "f9b82336-44ae-4b63-8371-1f40e607c8f2",
   "metadata": {},
   "outputs": [],
   "source": [
    "install.packages(\"lubridate\")  \n",
    "library(lubridate)\n",
    "\n",
    "merged_data <- merged_data|>\n",
    "    mutate(\n",
    "        start_time = as.POSIXct(start_time, format = \"%m/%d/%Y %H:%M\"),\n",
    "        end_time = as.POSIXct(end_time, format = \"%m/%d/%Y %H:%M\"),\n",
    "        session_duration = as.numeric(difftime(end_time, start_time, units = \"mins\"))\n",
    "    )\n",
    "\n",
    "merged_data # Outliers were detected.(start_time,end time)\n",
    "\n",
    "# tidy_data <- merged_data |>\n",
    "#     group_by(name,experience,subscribe,gender,Age) |> #같은걸로 묶어\n",
    "#     summarize(\n",
    "#         total_sessions = n(),\n",
    "#         avg_session_duration = mean(session_duration, na.rm = TRUE),  \n",
    "#     )\n",
    "\n",
    "# tidy_data\n",
    "\n",
    "\n",
    "# tidy_data <- tidy_data |>\n",
    "#     ungroup() |>\n",
    "#     select(-name,-experience,-subscribe,-gender)."
   ]
  },
  {
   "cell_type": "code",
   "execution_count": null,
   "id": "85ef4018-7b23-4f29-8215-c848a6266d9f",
   "metadata": {},
   "outputs": [],
   "source": []
  }
 ],
 "metadata": {
  "kernelspec": {
   "display_name": "R",
   "language": "R",
   "name": "ir"
  },
  "language_info": {
   "codemirror_mode": "r",
   "file_extension": ".r",
   "mimetype": "text/x-r-source",
   "name": "R",
   "pygments_lexer": "r",
   "version": "4.3.3"
  }
 },
 "nbformat": 4,
 "nbformat_minor": 5
}
