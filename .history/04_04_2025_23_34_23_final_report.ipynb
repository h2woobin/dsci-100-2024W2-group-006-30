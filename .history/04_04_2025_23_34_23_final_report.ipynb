{
 "cells": [
  {
   "cell_type": "code",
   "execution_count": null,
   "id": "238f632f-6f57-4ceb-b23f-e64ddcdd474e",
   "metadata": {},
   "outputs": [],
   "source": [
    "library(tidyverse)  \n",
    "library(lubridate)\n",
    "library(dplyr)\n",
    "library(readr)\n",
    "library(ggplot2)"
   ]
  },
  {
   "cell_type": "markdown",
   "id": "d912b136-1444-4093-a6e4-e6a281fd6757",
   "metadata": {},
   "source": [
    "# ***Title: How To Get More Players***"
   ]
  },
  {
   "cell_type": "markdown",
   "id": "6a4d963a-f1d5-4fc3-b62c-831df8f51e65",
   "metadata": {},
   "source": [
    "Analyzing user data has become increasingly important in today’s gaming industry. By collecting and analyzing players data, we can identify ***which \"kinds\" of players*** are most likely to contribute a large amount of data.  This insight allows us to better target those players in our recruiting efforts — and this is the primary goal of our project.\n",
    "\n",
    "To achieve this, we developed and explored four key questions:\n",
    "1. Relation between \"age\" and engagement level metrics  \n",
    "    > ***Do older players spend more time per session? (age vs average session duration)***\n",
    "\n",
    "2. Relation between \"experience\" and engagement level metrics  \n",
    "    > ***Do players with more experience tend to play more? (experience vs Average Played Hours)***\n",
    "\n",
    "3. Relation between \"gender\" and engagement level metrics  \n",
    "    > ***Which gender has more sessions? (gender vs total sessions)***\n",
    "\n",
    "4. Relation between \"subscription\" and engagement level metrics  \n",
    "    > ***Do subscribers tend to play more than non-subscribers? (subscribe vs total play time)***\n",
    "\n",
    "The datasets used for this analysis include personal information of players from a specific game platform, along with detailed records of their play sessions. ***We merged two datasets (players.csv, sessions.csv) using the players' email addresses as a common key.*** The variables in the merged dataset include age, gender, experience, subscription status, name, hashed email, total play hours, session start time, and end time. Based on these variables, we performed various calculations and comparisons to answer our research questions.\n",
    "\n"
   ]
  },
  {
   "cell_type": "markdown",
   "id": "f3c19d51-98e0-4f85-aeaf-85b1503dc55f",
   "metadata": {},
   "source": [
    "### **Data** "
   ]
  },
  {
   "cell_type": "code",
   "execution_count": null,
   "id": "5d6dc29f-c5db-40fa-a2e9-8db1876f4634",
   "metadata": {},
   "outputs": [],
   "source": [
    "players <- read_csv(\"https://raw.githubusercontent.com/Elvis614412/Dsci-100-group-project/refs/heads/main/players.csv\")\n",
    "sessions <- read_csv(\"https://raw.githubusercontent.com/Elvis614412/Dsci-100-group-project/refs/heads/main/sessions.csv\")\n",
    "\n",
    "merged_data <- left_join(players,sessions, by = \"hashedEmail\")\n",
    "\n",
    "merged_data <- merged_data|>\n",
    "    select(-hashedEmail,-original_start_time,-original_end_time)\n",
    "    merged_data$Age[is.na(merged_data$Age)] <- mean(merged_data$Age, na.rm = TRUE)\n",
    "\n",
    "head(merged_data, 5)"
   ]
  },
  {
   "cell_type": "markdown",
   "id": "40ce3dd2-5f5d-4c8c-97c2-c7b6c4c9b72a",
   "metadata": {},
   "source": [
    "## ***Q1. Do older players spend more time per session? (age vs average session duration)***"
   ]
  },
  {
   "cell_type": "code",
   "execution_count": null,
   "id": "050e0962-845e-40a3-8071-6deda8bda8dd",
   "metadata": {},
   "outputs": [],
   "source": [
    "merged_data <- merged_data|>\n",
    "    mutate(\n",
    "        start_time = as.POSIXct(start_time, format = \"%m/%d/%Y %H:%M\"),\n",
    "        end_time = as.POSIXct(end_time, format = \"%m/%d/%Y %H:%M\"),\n",
    "        session_duration = as.numeric(difftime(end_time, start_time, units = \"mins\"))\n",
    "    )\n",
    "\n",
    "name_order <- merged_data |>\n",
    "  count(name, sort = TRUE) |>\n",
    "  pull(name)\n",
    "\n",
    "merged_data$name <- factor(merged_data$name, levels = name_order)\n",
    "\n",
    "merged_data <- merged_data |>\n",
    "  arrange(name,start_time)\n",
    "\n",
    "# merged_data <- merged_data |>\n",
    "#     filter(name == \"Morgan\") |>\n",
    "#     arrange(start_time)\n",
    "\n",
    "merged_data_clean <- merged_data |>\n",
    "  filter(session_duration <= 1440 ,!is.na(start_time),!is.na(end_time))\n",
    "\n",
    "merged_data2 <- merged_data_clean |> \n",
    "    group_by(name,Age,experience,subscribe) |>\n",
    "    summarize(average_playtime = mean(session_duration),.groups = \"drop\")\n",
    "\n",
    "merged_data2 <- merged_data2 |>\n",
    "    select(-name,-experience,-subscribe)\n",
    "\n",
    "merged_data2 <- merged_data2 |>\n",
    "    mutate(\n",
    "        Age = as.integer(Age),\n",
    "        average_playtime = round(average_playtime,2)\n",
    "    ) |>\n",
    "    arrange(Age)\n",
    "\n",
    "average_by_age <- merged_data2|> \n",
    "    group_by(Age) |>\n",
    "    summarize(average_playtime = mean(average_playtime),.groups = \"drop\")\n",
    "\n",
    "average_by_age <- average_by_age |> \n",
    "    mutate(\n",
    "        average_playtime = round(average_playtime)\n",
    "    )\n",
    "\n",
    "head(average_by_age,5)\n",
    "\n"
   ]
  },
  {
   "cell_type": "markdown",
   "id": "6883bd5f-4764-4b30-91ac-efb426b7d6f5",
   "metadata": {},
   "source": [
    "To calculate the average playtime per session, the start_time and end_time variables were first converted from factors to appropriate time formats. \n",
    "\n",
    "Before performing the calculation, **I identified the outliers represented non-overlapping, extremely long sessions** and were unlikely to affect the analysis.\n",
    "\n",
    "**The outliers were extremly long sessions which is saying that some player played almost a month**. I pick specific player \"Morgan\" who appeared to have played for nearly a month, and I confirmed that this was due to erroneous data. **A few other players also exhibited similar issues**. To ensure data quality, **I filtered out any sessions longer than one day (1440 minutes).**\n",
    "\n",
    "After cleaning the data, I retained only the necessary columns (Age, average_playtime) and converted the data types to integer and double (rounded to two decimal places) to improve readability and analysis.\n"
   ]
  },
  {
   "cell_type": "code",
   "execution_count": null,
   "id": "277de1f0-b2f0-4ce6-81e5-52a1f15acdb2",
   "metadata": {},
   "outputs": [],
   "source": [
    "age_plot <- average_by_age |>\n",
    "    ggplot(aes(x = factor(Age), y = average_playtime)) +\n",
    "    geom_bar(stat = \"identity\", fill = \"skyblue\") + \n",
    "    labs(\n",
    "        x = \"Age (9 ~ 50)\",\n",
    "        y = \"Average Play Time per Session (minutes)\",\n",
    "        title = \"Relationship Between Age and Average Play Time Per Session\"\n",
    "    ) +\n",
    "    theme_minimal() \n",
    "\n",
    "age_plot"
   ]
  },
  {
   "cell_type": "code",
   "execution_count": null,
   "id": "b45b5d87-fb6b-46f9-acef-6f7b2cb6b2ad",
   "metadata": {},
   "outputs": [],
   "source": [
    "merged_data2 <- merged_data2 |>\n",
    "  mutate(age_group = case_when(\n",
    "    Age >= 10 & Age < 20 ~ \"10s\",\n",
    "    Age >= 20 & Age < 30 ~ \"20s\",\n",
    "    Age >= 30 & Age < 40 ~ \"30s\",\n",
    "    Age >= 40 & Age <= 59 ~ \"40s~50s\",\n",
    "    TRUE ~ NA_character_\n",
    "  ))\n",
    "\n",
    "head(merged_data2,5)\n",
    "\n",
    "grouped_playtime <- merged_data2 |>\n",
    "  filter(!is.na(age_group)) |>\n",
    "  group_by(age_group) |>\n",
    "  summarize(avg_playtime = round(mean(average_playtime), 2))\n"
   ]
  },
  {
   "cell_type": "markdown",
   "id": "61927087-0145-4c24-9505-5b127f624c31",
   "metadata": {},
   "source": [
    "After grouping the data by age ranges (e.g., teens, 20s, 30s, etc.), I calculated the average playtime per session for each group. This allowed for a clearer comparison of gaming behavior across different age demographics."
   ]
  },
  {
   "cell_type": "code",
   "execution_count": null,
   "id": "3ffa67c1-fa4b-497c-818e-c7e3b0c08be2",
   "metadata": {},
   "outputs": [],
   "source": [
    "age_plot_by_group <- ggplot(grouped_playtime, aes(x = age_group, y = avg_playtime, fill = age_group)) +\n",
    "  geom_bar(stat = \"identity\") +\n",
    "  labs(title = \"Average Play Time by Age Gruop \",\n",
    "       x = \"Age Group\",\n",
    "       y = \"Average Play Time (minutes)\") +\n",
    "  theme_minimal()\n",
    "\n",
    "age_plot_by_group\n"
   ]
  },
  {
   "cell_type": "markdown",
   "id": "f585a8e3-4d9c-4a8d-a08b-5db3f0fbc6ae",
   "metadata": {},
   "source": [
    "## ***Question 1 result***"
   ]
  },
  {
   "cell_type": "markdown",
   "id": "e186b4a4-be8f-4bbc-b705-4c4bea1c8916",
   "metadata": {},
   "source": [
    "Based on the analysis of average playtime by age, **20-year-old players recorded the longest average playtime per session at 150 minutes**, followed by **32-year-olds (116 minutes)** and **24-year-olds (105 minutes)**. \n",
    "\n",
    "In contrast, **50-year-olds had the shorest average playtime per session at 5 minutes**, with **45 -year-olds (7 minutes)** and **26-year-olds (15 minutes)** also showing relatively short play durations. \n",
    "\n",
    "When grouped by age ranges, **players in their 30s had the highest average playtime per session**, followed by those in their **20s, teens (10s), and 40s~50s.** \n",
    "\n",
    "These results indicate that **players in their 20s and 30s tend to spend the most time per game session.**"
   ]
  },
  {
   "cell_type": "markdown",
   "id": "22cda0b9-042f-4912-8a31-3defaef70757",
   "metadata": {},
   "source": [
    "## ***Q2. Do players with more experience tend to play more? (experience vs Avergae Played Hours)***"
   ]
  },
  {
   "cell_type": "markdown",
   "id": "a71be619-0dea-4e66-8d67-cfc8379427dc",
   "metadata": {},
   "source": [
    "To analyze player engagement, I first cleaned and prepared the dataset by converting the experience, subscribe, and gender variables into categorical factors to ensure proper grouping. I also recoded the subscribe variable for clarity, renaming \"TRUE\" to \"Subscribed\" and \"FALSE\" to \"Not Subscribed\". Then, I grouped the data by experience level and calculated the average number of hours played within each group, excluding any missing values. To visualize this relationship, I created a bar plot using ggplot2, displaying average played hours on the y-axis and experience levels on the x-axis, with color-coded bars for each category. This plot provides a clear overview of how playtime varies with experience, offering insights into relation between \"experience\" and play time."
   ]
  },
  {
   "cell_type": "code",
   "execution_count": null,
   "id": "0e309682-d632-4b3c-b6fd-c1216462b0b9",
   "metadata": {},
   "outputs": [],
   "source": [
    "# summary of the data set that is relevant for exploratory data analysis related to the planned analysis\n",
    "tidy_player_dataset <- players |> \n",
    "    mutate(experience = as_factor(experience), \n",
    "           subscribe = as_factor(subscribe), \n",
    "           gender = as_factor(gender)) |>\n",
    "    mutate(subscribe = fct_recode(subscribe, \"Subscribed\" = \"TRUE\", \"Not Subscribed\" = \"FALSE\"))\n",
    "\n",
    "head(tidy_player_dataset, 5)"
   ]
  },
  {
   "cell_type": "code",
   "execution_count": null,
   "id": "e77bdc4b-2c73-46c1-a3c4-233cdf2a707f",
   "metadata": {},
   "outputs": [],
   "source": [
    "# visualization of the dataset that is relevant for exploratory data analysis related to the planned analysis\n",
    "avg_played_hours <- tidy_player_dataset |>\n",
    "  group_by(experience) |> \n",
    "  summarise(avg_hours = mean(played_hours, na.rm = TRUE))\n",
    "\n",
    "\n",
    "experience_bar <- ggplot(avg_played_hours, aes(x = experience, y = avg_hours, fill = experience)) +\n",
    "  geom_bar(stat = \"identity\") +\n",
    "  labs(title = \"Figure 2: Average Played Hours vs. Experience Level\",\n",
    "       x = \"Experience Level\",\n",
    "       y = \"Average Played Hours(hrs)\") +\n",
    "  theme(text = element_text(size = 15))\n",
    "\n",
    "experience_bar"
   ]
  },
  {
   "cell_type": "markdown",
   "id": "e789ef0b-2205-49a4-bd88-4349585bb4ad",
   "metadata": {},
   "source": [
    "## ***Q2 Result***"
   ]
  },
  {
   "cell_type": "markdown",
   "id": "422f26f6-3cd5-421c-82f9-d25a9f56f4a8",
   "metadata": {},
   "source": [
    "Figure 2 shows that \"Regular\" players have the highest average playtime, significantly exceeding all other experience levels. \"Veteran\" players have the lowest average playtime, suggesting that higher experience does not necessarily lead to greater engagement. \"Pro\" and \"Amateur\" players fall in the middle range, while \"Beginner\" players have the lowest playtime overall. This pattern indicates that e \"Regular\" players appear to be the most engaged. Therefore, we should recruit \"Regular\" players as they most likely to contribute a large amount of data(greater play time)."
   ]
  },
  {
   "cell_type": "markdown",
   "id": "18c74220-8d6d-4f79-9e26-59182d6358bb",
   "metadata": {},
   "source": [
    "## ***Q3. Which gender has more sessions? (gender vs total sessions)***"
   ]
  },
  {
   "cell_type": "code",
   "execution_count": null,
   "id": "36cbb0b5-cf5d-48f1-a0c9-3a9cf5a05c9f",
   "metadata": {},
   "outputs": [],
   "source": [
    "gender_sessions <- merged_data |>\n",
    "filter(!is.na(gender)) |>\n",
    "select(name, gender, start_time, end_time) |>\n",
    "group_by(gender) |>\n",
    "summarize(total_sessions=n()) \n",
    "gender_sessions\n",
    "\n",
    "options(repr.plot.width = 15, repr.plot.height = 8)\n",
    "gender_sessions_plot <- gender_sessions |>\n",
    "ggplot(aes(x=gender, y=total_sessions, fill=gender)) +\n",
    "geom_bar(stat=\"identity\") +\n",
    "labs(title=\"Total Sessions Related to Gender\", x=\"Player's Gender\", y=\"Total Count\") +\n",
    "theme(text = element_text(size=20))\n",
    "gender_sessions_plot"
   ]
  },
  {
   "cell_type": "markdown",
   "id": "98b2b35c-5e94-4b2b-9366-db39ba15b4c9",
   "metadata": {},
   "source": [
    "**Steps**\n",
    "1. Filter out rows with missing gender(NA) from gender column using `filter` function.\n",
    "2. Select five column names (name, gender, start_time, end_time, session_duration) from data using `select` function.\n",
    "3. Group the data by gender using `group_by` function.\n",
    "4. Calculate total number of rows in sessions data for each gender using `summarize` function, then make a new name: total_sessions.\n",
    "5. Print out gender_sessions.\n",
    "6. Create a plot for relationship between gender and total sessions using gender_sessions data.\n",
    "7. Using x = gender, y = total_sessions and fill gender to create a bar chart and create a title and each name of xlab and ylab using `labs` to combine it."
   ]
  },
  {
   "cell_type": "markdown",
   "id": "46ad79d1-05a3-4774-9b7b-c9529ffa592a",
   "metadata": {},
   "source": [
    "**Relationship with question2**\n",
    "1. What I do is to research how a player's gender contributed to the large amount of data for the game. Then, I used different functions to create a final plot that can illustrate which gender contributed most, least and middle.\n",
    "2. Firstly, I used a `filter` function and an argument !is.na to extract the gender's column rows in the merged data frame and find the values which are not NA.\n",
    "3. In addition, using the `select` function to choose which columns I can use in this research, I choose name, gender, start time and end time columns to solve this research. Name and gender columns can help us know each player's names and which gender are they. Also, start time and end time columns can help us know how long they spent on game.\n",
    "4. Thirdly, using `group_by` and `summarize` functions to split the gender column to each column and make a column name total_sessions and calculate each column to find values.\n",
    "5. Last but not least, using the `ggplot` function to create a bar chart and find the total distribution for each genders.\n",
    "6. Finally, the bar shows the most, least and middle contributed for each genders. *Male* gender contributed most for this game which is in the upper 1000. *Other* gender contributed least for this game which is almost 0. Besides, second place is *Female*, third place is *Non-binary*, fourth place is *Prefer not to say*, fifth place is *Agender* and sixth place is *Two-Spirited*.\n",
    "7. Overall, I described the number of players related to gender and contribution from players for the game, so the most distributed is *Male* players and the least distributed is *Other* players."
   ]
  },
  {
   "cell_type": "markdown",
   "id": "33ceda9a-1f40-4f3a-a60c-f453d1d0a9dd",
   "metadata": {},
   "source": [
    "## ***Q4. Do subscribers tend to play more than non-subscribers? (subscribe vs total play time)***"
   ]
  },
  {
   "cell_type": "markdown",
   "id": "6506becb-6a2b-4c40-808c-f7b37c90d4fc",
   "metadata": {},
   "source": [
    "To examine the relationship between subscription status and player engagement, I began by grouping the cleaned dataset by the subscribe variable, which had been previously recoded for clarity (\"Subscribed\" and \"Not Subscribed\"). I then calculated the average number of hours played for each subscription group using the mean() function, excluding missing values with na.rm = TRUE. This step allowed me to quantify differences in playtime between subscribed and non-subscribed users. To visualize these differences, I created a bar plot, with subscription status on the x-axis and average played hours on the y-axis. The bars were color-filled according to subscription status, and appropriate axis labels and a title were added to enhance readability. This plot helps reveal how subscription status is associated with average playtime, which, in turn, indicates the volume of gameplay data contributed by each group."
   ]
  },
  {
   "cell_type": "code",
   "execution_count": null,
   "id": "280d2707-78f2-4386-8692-a2927f9bf88d",
   "metadata": {},
   "outputs": [],
   "source": [
    "# Compute average played hours by subscription status\n",
    "avg_played_hours_sub <- tidy_player_dataset |>\n",
    "  group_by(subscribe) |>\n",
    "  summarise(avg_hours = mean(played_hours, na.rm = TRUE)) \n",
    "\n",
    "# Create the bar plot\n",
    "sub_bar <- ggplot(avg_played_hours_sub, aes(x = subscribe, y = avg_hours, fill = subscribe)) +\n",
    "  geom_bar(stat = \"identity\") +\n",
    "  labs(title = \"Figure 4: Average Played Hours vs. Subscription Status\",\n",
    "       x = \"Subscription Status\",\n",
    "       y = \"Average Played Hours (hrs)\",\n",
    "       fill = \"Subscription Status\") +\n",
    "  theme(text = element_text(size = 15))\n",
    "sub_bar"
   ]
  },
  {
   "cell_type": "markdown",
   "id": "f18ccea1-6e3d-4dd8-aefa-4c7314af46e1",
   "metadata": {},
   "source": [
    "## ***Q4 Result***"
   ]
  },
  {
   "cell_type": "markdown",
   "id": "59692662-f1d6-4a03-b29d-98f2c0b6f84c",
   "metadata": {},
   "source": [
    "In figure 4, the comparison between subscribed and non-subscribed players demonstrates a clear and significant difference in playtime. Subscribed players spend singnificantly more time playing than non-subscribers, suggesting that subscribed players are most likely to contribute more to large amount of data."
   ]
  },
  {
   "cell_type": "markdown",
   "id": "f83243ee-6958-47f1-8c44-c932162d84f1",
   "metadata": {},
   "source": [
    "**Discussion:**\n",
    "- summarize what you found\n",
    "- discuss whether this is what you expected to find?\n",
    "- discuss what impact could such findings have?\n",
    "- discuss what future questions could this lead to?"
   ]
  },
  {
   "cell_type": "markdown",
   "id": "6da5af96-7400-45d5-9705-a412fd2f7d54",
   "metadata": {},
   "source": [
    "According to the diagram of the four small questions, players in 20 and 20 to 30 years old contributed the most to game time, followed by players between 30 and 50 years old, and players with the shortest game time in 50 years and older. Compared to all other experience levels, the average player spends more time playing than the pro player averages on top of the game time. In terms of the impact of gender on the game, male gamers have contributed to the game for the longest time, even far more than other players. While some of the results are not far from the predicted, pros spend less time playing than the average gamer, suggesting that pro gamers are more focused on mastering the game than on the amount of time they spend playing. These findings provide suggestions and ideas for planning and adjusting the direction of the game, as well as studying user retention. Future developments can focus on how to adjust better decisions to make games accessible to different ages."
   ]
  },
  {
   "cell_type": "markdown",
   "id": "2f14cd31-fa36-4a80-8ba9-cda162209bc6",
   "metadata": {},
   "source": [
    "Through our analysis, we found that certain types of player are strongly linked to higher engagement levels, which directly correlates with greater data contribution. Players in their 20s and 30s tend to spend the most time per session, suggesting that age influences how long players engage with the game at one session. Interestingly, while we expected more experienced players to play more, the data showed that \"Regular\" players had the highest overall playtime, indicating they may be the most engaged group. In terms of gender, male players had the highest number of total sessions, followed by female and non-binary players, meaning male players contributed the most session-based data. Also, we found that subscribed players played significantly more than non-subscribers, confirming that subscription is a strong indicator of player engagement and data contribution."
   ]
  },
  {
   "cell_type": "markdown",
   "id": "b5f3a605-d219-461f-be9f-f9fa75cdf4ab",
   "metadata": {},
   "source": [
    "**References**\n",
    "You may include references if necessary, as long as they all have a consistent citation style."
   ]
  },
  {
   "cell_type": "code",
   "execution_count": null,
   "id": "b2d50e62-e49c-4163-a86d-708f3b304c18",
   "metadata": {},
   "outputs": [],
   "source": []
  }
 ],
 "metadata": {
  "kernelspec": {
   "display_name": "R",
   "language": "R",
   "name": "ir"
  },
  "language_info": {
   "codemirror_mode": "r",
   "file_extension": ".r",
   "mimetype": "text/x-r-source",
   "name": "R",
   "pygments_lexer": "r",
   "version": "4.3.3"
  }
 },
 "nbformat": 4,
 "nbformat_minor": 5
}
