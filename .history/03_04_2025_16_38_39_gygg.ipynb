{
 "cells": [
  {
   "cell_type": "code",
   "execution_count": null,
   "id": "b59972f3-bf58-4fd7-ab91-333de22caea2",
   "metadata": {},
   "outputs": [],
   "source": [
    "library(tidyverse)\n",
    "install.packages(\"lubridate\")  \n",
    "library(lubridate)\n",
    "library(dplyr)\n",
    "library(readr)\n",
    "library(ggplot2)\n",
    "\n",
    "players <- read_csv(\"https://raw.githubusercontent.com/Elvis614412/Dsci-100-group-project/refs/heads/main/players.csv\")\n",
    "sessions <- read_csv(\"https://raw.githubusercontent.com/Elvis614412/Dsci-100-group-project/refs/heads/main/sessions.csv\")\n",
    "\n",
    "merged_data <- left_join(players,sessions, by = \"hashedEmail\")\n",
    "\n",
    "merged_data <- merged_data|>\n",
    "    select(-hashedEmail,-original_start_time,-original_end_time)\n",
    "    merged_data$Age[is.na(merged_data$Age)] <- mean(merged_data$Age, na.rm = TRUE)\n",
    "\n",
    "merged_data\n"
   ]
  },
  {
   "cell_type": "markdown",
   "id": "cce1e528-5f6c-4df2-8270-9ec26f0c93f9",
   "metadata": {},
   "source": [
    "**3. Which gender has more sessions? (gender vs total sessions)**"
   ]
  },
  {
   "cell_type": "code",
   "execution_count": null,
   "id": "9ad2b521-6841-418b-966b-9dc0740494fb",
   "metadata": {},
   "outputs": [],
   "source": [
    "gender_sessions <- merged_data |>\n",
    "filter(!is.na(gender)) |>\n",
    "select(name, gender, start_time, end_time) |>\n",
    "group_by(gender) |>\n",
    "summarize(total_sessions=n()) \n",
    "gender_sessions\n",
    "\n",
    "options(repr.plot.width = 15, repr.plot.height = 12)\n",
    "gender_sessions_plot <- gender_sessions |>\n",
    "ggplot(aes(x=gender, y=total_sessions, fill=gender)) +\n",
    "geom_bar(stat=\"identity\") +\n",
    "labs(title=\"Total Sessions Related to Gender\", x=\"Player's Gender\", y=\"Total Count\") +\n",
    "theme(text = element_text(size=20))\n",
    "gender_sessions_plot"
   ]
  },
  {
   "cell_type": "markdown",
   "id": "d7784a44-5ffc-4233-9c6f-df2f42013fd7",
   "metadata": {},
   "source": [
    "1. Filter out rows with missing gender(NA) from gender column using `filter` function.\n",
    "2. Select five column names (name, gender, start_time, end_time, session_duration) from data using `select` function.\n",
    "3. Group the data by gender using `group_by` function.\n",
    "4. Calculate total number of rows in sessions data for each gender using `summarize` function, then make a new name: total_sessions.\n",
    "5. Print out gender_sessions.\n",
    "6. Create a plot for relationship between gender and total sessions using gender_sessions data.\n",
    "7. Using x = gender, y = total_sessions and fill gender to create a bar chart and create a title and each name of xlab and ylab using `labs` to combine it."
   ]
  },
  {
   "cell_type": "markdown",
   "id": "5f94c490-4321-4abd-b84d-ff284bab8bba",
   "metadata": {},
   "source": [
    "Question 2: We would like to know which \"kinds\" of players are most likely to contribute a large amount of data so that we can target those players in our recruiting efforts.\n",
    "1. What i do is to research how player's gender contributed the large amount of data for the game. Then, I used different functions to create a final plot that can illustrate how which gender contributed most, least and middle.\n",
    "2. Firstly, i used `filter` function and argument `!is.na` to extract  the gender's column rows in the merged data frame and find the value which are not NA.\n",
    "3. In addition, using `select` function to choose which columns i can use in this research, so i chooes name, gender, start time and end time columns to solve this research. Name and gender columns can help us know each player's names and which gender are they. Also, start time and end time columns can help us know how long they spent on game.\n",
    "4. Thirdly, using `group_by` and `summarize` functions to split the gender column to each columns and make a column name total_sessions and calculate each columns to find values.\n",
    "5. "
   ]
  }
 ],
 "metadata": {
  "kernelspec": {
   "display_name": "R",
   "language": "R",
   "name": "ir"
  },
  "language_info": {
   "codemirror_mode": "r",
   "file_extension": ".r",
   "mimetype": "text/x-r-source",
   "name": "R",
   "pygments_lexer": "r",
   "version": "4.3.3"
  }
 },
 "nbformat": 4,
 "nbformat_minor": 5
}
